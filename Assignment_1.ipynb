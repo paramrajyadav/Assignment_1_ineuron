{
 "cells": [
  {
   "cell_type": "markdown",
   "id": "743c83e7",
   "metadata": {},
   "source": [
    "## 1. In the below elements which of them are values or an expression? eg:- values can be\n",
    "## integer or string and expressions will be mathematical operators.\n",
    "\n",
    "##   * hello -87.8 - / + 6\n",
    "\n",
    "Ans In the above mention options ,The followings are values\n",
    "Hello,-87.7,6\n",
    "\n",
    "And the following are expression\n",
    "*,-,/,+\n"
   ]
  },
  {
   "cell_type": "markdown",
   "id": "851e5a42",
   "metadata": {},
   "source": [
    "## 2. What is the difference between string and variable?\n",
    "\n",
    "Ans String is a data type which contains alphanumeric values and variable is the name given to the memory location where datatypes are stored,its values can be changed"
   ]
  },
  {
   "cell_type": "markdown",
   "id": "5a2b9b7c",
   "metadata": {},
   "source": [
    "## 3.Describe three different data types.\n",
    "\n",
    "Ans Three types of datatypes are integers,string and boolean"
   ]
  },
  {
   "cell_type": "markdown",
   "id": "75b4449e",
   "metadata": {},
   "source": [
    "## 4. What is an expression made up of? What do all expressions do?\n",
    "\n",
    "Ans An expression is a combination of operators and operands.Expression produces some desirable outcomes that makes sense."
   ]
  },
  {
   "cell_type": "markdown",
   "id": "49fa8317",
   "metadata": {},
   "source": [
    "## 5. This assignment statements, like spam = 10. What is the difference between an\n",
    "## expression and a statement?\n",
    "\n",
    "Ans Statement is a just standalone execution which do not produce more information than what is already provided in it, whereas in expression it is combination of operator and operands that combined together provided more information than already provided"
   ]
  },
  {
   "cell_type": "markdown",
   "id": "b752f5c9",
   "metadata": {},
   "source": [
    "## 6. After running the following code, what does the variable bacon contain?\n",
    "bacon = 22\n",
    "bacon + 1\n",
    "\n",
    "Ans After running the code ,the value we are finding for bacon is still 22 as we have not alter the value with baon variable"
   ]
  },
  {
   "cell_type": "markdown",
   "id": "e71d3677",
   "metadata": {},
   "source": [
    "## 7. What should the values of the following two terms be?\n",
    "###  'spam'+'spamspam'\n",
    "### 'spam'*3\n",
    "  \n",
    "Ans. In both cases we are getting \"spamspamspam'\n",
    "\n",
    "In first case it is concantenating 2 string and in second case it is multilpication of string"
   ]
  },
  {
   "cell_type": "markdown",
   "id": "a4f91427",
   "metadata": {},
   "source": [
    "## 8. Why is eggs a valid variable name while 100 is invalid?\n",
    "\n",
    "Ans egg is a valid variable name and 100 is invalid as variable names cannot start with numerical values"
   ]
  },
  {
   "cell_type": "markdown",
   "id": "9b1fe595",
   "metadata": {},
   "source": [
    "## 9. What three functions can be used to get the integer, floating-point number, or string\n",
    "## version of a value?\n",
    "\n",
    "Ans As only numerical value be converted into string, hence we can use the following functions\n",
    "\n",
    "int(value)\n",
    "str(value)\n",
    "float(value)\n"
   ]
  },
  {
   "cell_type": "markdown",
   "id": "76ed5cf6",
   "metadata": {},
   "source": [
    "## 10. Why does this expression cause an error? How can you fix it?\n",
    "## 'I have eaten' + 99+'burritos'\n",
    "\n",
    "Ans In this expression we are concatention strings with integer tats why we are getting error. We can fix this by either typecasting 99 into string or putting 99 in ''/\"\".\n",
    "\n",
    "\n",
    "'I have eaten'+str(99)+'burritos'\n",
    "            Or\n",
    " 'I have eaten '+'99'+' burritos'"
   ]
  }
 ],
 "metadata": {
  "kernelspec": {
   "display_name": "Python 3 (ipykernel)",
   "language": "python",
   "name": "python3"
  },
  "language_info": {
   "codemirror_mode": {
    "name": "ipython",
    "version": 3
   },
   "file_extension": ".py",
   "mimetype": "text/x-python",
   "name": "python",
   "nbconvert_exporter": "python",
   "pygments_lexer": "ipython3",
   "version": "3.9.7"
  }
 },
 "nbformat": 4,
 "nbformat_minor": 5
}
